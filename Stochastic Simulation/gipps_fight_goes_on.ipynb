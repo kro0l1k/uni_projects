{
 "cells": [
  {
   "cell_type": "code",
   "execution_count": 15,
   "id": "3b7098e8-d59b-4f4f-a2e0-cb394238fe0e",
   "metadata": {},
   "outputs": [
    {
     "name": "stdout",
     "output_type": "stream",
     "text": [
      "4.205849470098551 0.8272831408474044 [0. 0. 0. 0. 0. 0. 0. 0. 0. 0.]\n",
      "4.702247445912788 0.3344464294683782 [0. 0. 0. 0. 0. 0. 0. 0. 0. 0.]\n",
      "5.6587505506898985 -0.5823528897323071 [0. 0. 0. 0. 0. 0. 0. 0. 0. 0.]\n",
      "5.029738237157571 0.05146068621104494 [0. 0. 0. 0. 0. 0. 0. 0. 0. 0.]\n",
      "5.23283415693009 -0.2378019521566249 [0. 0. 0. 0. 0. 0. 0. 0. 0. 0.]\n",
      "5.586645945151499 -0.6684057064680957 [0. 0. 0. 0. 0. 0. 0. 0. 0. 0.]\n",
      "4.7575881748017155 0.2574876622089773 [0. 0. 0. 0. 0. 0. 0. 0. 0. 0.]\n",
      "5.486296326108144 -0.6539101903337864 [0. 0. 0. 0. 0. 0. 0. 0. 0. 0.]\n",
      "4.619069759562009 0.308641121704039 [0. 0. 0. 0. 0. 0. 0. 0. 0. 0.]\n",
      "5.11224867955948 -0.15232768270816835 [0. 0. 0. 0. 0. 0. 0. 0. 0. 0.]\n"
     ]
    },
    {
     "name": "stderr",
     "output_type": "stream",
     "text": [
      "/var/folders/8j/_z3hb0md2ts8q3jtwg2ty3j00000gn/T/ipykernel_20929/935250570.py:42: RuntimeWarning: invalid value encountered in true_divide\n",
      "  weights = (prior_values_x1 * p_x2(prior_values_x2)) / likelihood_values\n"
     ]
    },
    {
     "ename": "ValueError",
     "evalue": "probabilities contain NaN",
     "output_type": "error",
     "traceback": [
      "\u001b[0;31m---------------------------------------------------------------------------\u001b[0m",
      "\u001b[0;31mValueError\u001b[0m                                Traceback (most recent call last)",
      "Cell \u001b[0;32mIn[15], line 51\u001b[0m\n\u001b[1;32m     48\u001b[0m     \u001b[38;5;28mprint\u001b[39m(prior_samples_x1[i] , prior_samples_x2[i] , (prior_values_x1 \u001b[38;5;241m*\u001b[39m p_x2(prior_values_x2)) )\n\u001b[1;32m     50\u001b[0m \u001b[38;5;66;03m# Resample according to the normalized weights\u001b[39;00m\n\u001b[0;32m---> 51\u001b[0m resampled_indices \u001b[38;5;241m=\u001b[39m \u001b[43mnp\u001b[49m\u001b[38;5;241;43m.\u001b[39;49m\u001b[43mrandom\u001b[49m\u001b[38;5;241;43m.\u001b[39;49m\u001b[43mchoice\u001b[49m\u001b[43m(\u001b[49m\u001b[43mnp\u001b[49m\u001b[38;5;241;43m.\u001b[39;49m\u001b[43marange\u001b[49m\u001b[43m(\u001b[49m\u001b[43mnum_samples\u001b[49m\u001b[43m)\u001b[49m\u001b[43m,\u001b[49m\u001b[43m \u001b[49m\u001b[43msize\u001b[49m\u001b[38;5;241;43m=\u001b[39;49m\u001b[43mnum_samples\u001b[49m\u001b[43m,\u001b[49m\u001b[43m \u001b[49m\u001b[43mreplace\u001b[49m\u001b[38;5;241;43m=\u001b[39;49m\u001b[38;5;28;43;01mTrue\u001b[39;49;00m\u001b[43m,\u001b[49m\u001b[43m \u001b[49m\u001b[43mp\u001b[49m\u001b[38;5;241;43m=\u001b[39;49m\u001b[43mnormalized_weights\u001b[49m\u001b[43m)\u001b[49m\n\u001b[1;32m     52\u001b[0m resampled_x1 \u001b[38;5;241m=\u001b[39m prior_samples_x1[resampled_indices]\n\u001b[1;32m     54\u001b[0m \u001b[38;5;66;03m# Plot the results\u001b[39;00m\n",
      "File \u001b[0;32mmtrand.pyx:935\u001b[0m, in \u001b[0;36mnumpy.random.mtrand.RandomState.choice\u001b[0;34m()\u001b[0m\n",
      "\u001b[0;31mValueError\u001b[0m: probabilities contain NaN"
     ]
    }
   ],
   "source": [
    "import numpy as np\n",
    "import matplotlib.pyplot as plt\n",
    "\n",
    "y = 5.0\n",
    "\n",
    "mu1 = 0\n",
    "mu2 = 0\n",
    "sig1 = 0.1\n",
    "sig2 = 0.1\n",
    "sig_y = 0.01\n",
    "\n",
    "def gauss_dens(p, m, s_2):\n",
    "    return 1/np.sqrt(2*np.pi * s_2) * np.exp(-((p-m)**2)/(2*s_2))\n",
    "\n",
    "# Define prior distributions and likelihood function\n",
    "def p_x1(x1):\n",
    "    return 1/np.sqrt(2*np.pi*(sig1**2)) * np.exp(-0.5 * ((x1 - mu1) / sig1) ** 2)\n",
    "\n",
    "def p_x2(x2):\n",
    "    return 1/np.sqrt(2*np.pi*(sig2**2)) * np.exp(-0.5 * ((x2 - mu2) / sig2) ** 2)\n",
    "\n",
    "def p_y_given_x1_x2(y, x1, x2):\n",
    "    return gauss_dens(y, x1+x2, sig_y **2)\n",
    "\n",
    "def p_x1_given_y_x2(x1, y, x2):\n",
    "    return gauss_dens(y, x1+x2, sig_y **2) * gauss_dens(x1, mu1, sig1**2) / gauss_dens(y, x2 + mu1, sig1**2 + sig_y**2)\n",
    "\n",
    "# Number of samples\n",
    "num_samples = 10\n",
    "\n",
    "# Generate samples from the proposal distribution (prior)\n",
    "prior_samples_x1 = np.random.normal(5, 0.5, num_samples)\n",
    "prior_samples_x2 = np.random.normal(2, 1.0, num_samples)\n",
    "\n",
    "for i in range(num_samples):\n",
    "    prior_samples_x2[i] = 5 - prior_samples_x1[i] + np.random.normal(0, 0.1)\n",
    "\n",
    "# Evaluate the importance weights\n",
    "likelihood_values = p_y_given_x1_x2(0.1, prior_samples_x1, prior_samples_x2)\n",
    "prior_values_x1 = p_x1(prior_samples_x1)\n",
    "prior_values_x2 = p_x2(prior_samples_x2)\n",
    "weights = (prior_values_x1 * p_x2(prior_values_x2)) / likelihood_values\n",
    "\n",
    "# Normalize the weights\n",
    "normalized_weights = weights / np.sum(weights)\n",
    "\n",
    "for i in range(num_samples):\n",
    "    print(prior_samples_x1[i] , prior_samples_x2[i] , (prior_values_x1[i] * p_x2(prior_values_x2)) )\n",
    "\n",
    "# Resample according to the normalized weights\n",
    "resampled_indices = np.random.choice(np.arange(num_samples), size=num_samples, replace=True, p=normalized_weights)\n",
    "resampled_x1 = prior_samples_x1[resampled_indices]\n",
    "\n",
    "# Plot the results\n",
    "plt.figure(figsize=(10, 6))\n",
    "plt.hist(resampled_x1, bins=30, density=True, alpha=0.5, label='Importance Sampling')\n",
    "x_range = np.linspace(0, 4, 100)\n",
    "plt.plot(x_range, p_x1_given_y_x2(x_range, 0.1, mu2), 'r-', label='True Distribution p(x1 | y=0.1)')\n",
    "plt.title('Importance Sampling')\n",
    "plt.legend()\n",
    "plt.show()\n"
   ]
  },
  {
   "cell_type": "code",
   "execution_count": null,
   "id": "4dcad6d5-95a9-4d2d-a139-28ff5582b47e",
   "metadata": {},
   "outputs": [],
   "source": []
  }
 ],
 "metadata": {
  "kernelspec": {
   "display_name": "Python 3 (ipykernel)",
   "language": "python",
   "name": "python3"
  },
  "language_info": {
   "codemirror_mode": {
    "name": "ipython",
    "version": 3
   },
   "file_extension": ".py",
   "mimetype": "text/x-python",
   "name": "python",
   "nbconvert_exporter": "python",
   "pygments_lexer": "ipython3",
   "version": "3.9.18"
  }
 },
 "nbformat": 4,
 "nbformat_minor": 5
}
